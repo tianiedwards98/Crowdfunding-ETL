{
 "cells": [
  {
   "cell_type": "code",
   "execution_count": 3,
   "id": "2fc117af",
   "metadata": {},
   "outputs": [
    {
     "name": "stdout",
     "output_type": "stream",
     "text": [
      "{\"contact_id\": 4661, \"name\": \"Cecilia Velasco\", \"email\": \"cecilia.velasco@rodrigues.fr\"}\n",
      "[4661, 'Cecilia Velasco', 'cecilia.velasco@rodrigues.fr']\n"
     ]
    }
   ],
   "source": [
    "# Import the json module.\n",
    "import json\n",
    "# Assign the string data to a variable. \n",
    "data = \"{'contact_id': 4661, 'name': 'Cecilia Velasco', 'email': 'cecilia.velasco@rodrigues.fr'}\"\n",
    "\n",
    "data = data.replace(\"'\", '\"')\n",
    "print(data)\n",
    "\n",
    "# Convert the string data to a dictionary.\n",
    "converted_data = json.loads(data)\n",
    "# Iterate through the dictionary (row) and get the values.\n",
    "row_values = [v for k, v in converted_data.items()]\n",
    "print(row_values)\n",
    "\n"
   ]
  },
  {
   "cell_type": "code",
   "execution_count": 4,
   "id": "8b1c4ea3",
   "metadata": {},
   "outputs": [
    {
     "name": "stdout",
     "output_type": "stream",
     "text": [
      "['4661']\n"
     ]
    }
   ],
   "source": [
    "# Import the regular expression module.\n",
    "import re\n",
    "# Assign the string data to a variable. \n",
    "string_data = \"contact_id 4661 name Cecilia Velasco email cecilia.velasco@rodrigues.fr\"\n",
    "# Extract the four digit number.\n",
    "contact_id = re.findall(r'(\\d{4})', string_data)\n",
    "print(contact_id)"
   ]
  },
  {
   "cell_type": "code",
   "execution_count": 6,
   "id": "8cf7004c",
   "metadata": {},
   "outputs": [
    {
     "data": {
      "text/html": [
       "<div>\n",
       "<style scoped>\n",
       "    .dataframe tbody tr th:only-of-type {\n",
       "        vertical-align: middle;\n",
       "    }\n",
       "\n",
       "    .dataframe tbody tr th {\n",
       "        vertical-align: top;\n",
       "    }\n",
       "\n",
       "    .dataframe thead th {\n",
       "        text-align: right;\n",
       "    }\n",
       "</style>\n",
       "<table border=\"1\" class=\"dataframe\">\n",
       "  <thead>\n",
       "    <tr style=\"text-align: right;\">\n",
       "      <th></th>\n",
       "      <th>contact_info</th>\n",
       "    </tr>\n",
       "  </thead>\n",
       "  <tbody>\n",
       "    <tr>\n",
       "      <th>0</th>\n",
       "      <td>contact_id 4661 name Cecilia Velasco email cec...</td>\n",
       "    </tr>\n",
       "    <tr>\n",
       "      <th>1</th>\n",
       "      <td>contact_id 3765 name Mariana Ellis email maria...</td>\n",
       "    </tr>\n",
       "    <tr>\n",
       "      <th>2</th>\n",
       "      <td>contact_id 4187 name Sofie Woods email sofie.w...</td>\n",
       "    </tr>\n",
       "    <tr>\n",
       "      <th>3</th>\n",
       "      <td>contact_id 4941 name Jeanette Iannotti email j...</td>\n",
       "    </tr>\n",
       "    <tr>\n",
       "      <th>4</th>\n",
       "      <td>contact_id 2199 name Samuel Sorgatz email samu...</td>\n",
       "    </tr>\n",
       "  </tbody>\n",
       "</table>\n",
       "</div>"
      ],
      "text/plain": [
       "                                        contact_info\n",
       "0  contact_id 4661 name Cecilia Velasco email cec...\n",
       "1  contact_id 3765 name Mariana Ellis email maria...\n",
       "2  contact_id 4187 name Sofie Woods email sofie.w...\n",
       "3  contact_id 4941 name Jeanette Iannotti email j...\n",
       "4  contact_id 2199 name Samuel Sorgatz email samu..."
      ]
     },
     "execution_count": 6,
     "metadata": {},
     "output_type": "execute_result"
    }
   ],
   "source": [
    "# Import the Pandas dependency.\n",
    "import pandas as pd\n",
    "\n",
    "\n",
    "# Read the contacts string data into a Pandas DataFrame\n",
    "contacts_string_df = pd.read_csv(\"contacts_string_data.csv\")\n",
    "contacts_string_df.head()"
   ]
  },
  {
   "cell_type": "code",
   "execution_count": 8,
   "id": "c57b41d0",
   "metadata": {},
   "outputs": [],
   "source": [
    "# Extract the four-digit contact ID number.\n",
    "contacts_string_df['contact_id'] = contacts_string_df['contact_info'].str.extract(r'(\\d{4})')"
   ]
  },
  {
   "cell_type": "code",
   "execution_count": 9,
   "id": "3de7dbb3",
   "metadata": {},
   "outputs": [
    {
     "data": {
      "text/html": [
       "<div>\n",
       "<style scoped>\n",
       "    .dataframe tbody tr th:only-of-type {\n",
       "        vertical-align: middle;\n",
       "    }\n",
       "\n",
       "    .dataframe tbody tr th {\n",
       "        vertical-align: top;\n",
       "    }\n",
       "\n",
       "    .dataframe thead th {\n",
       "        text-align: right;\n",
       "    }\n",
       "</style>\n",
       "<table border=\"1\" class=\"dataframe\">\n",
       "  <thead>\n",
       "    <tr style=\"text-align: right;\">\n",
       "      <th></th>\n",
       "      <th>contact_info</th>\n",
       "      <th>contact_id</th>\n",
       "    </tr>\n",
       "  </thead>\n",
       "  <tbody>\n",
       "    <tr>\n",
       "      <th>0</th>\n",
       "      <td>contact_id 4661 name Cecilia Velasco email cec...</td>\n",
       "      <td>4661</td>\n",
       "    </tr>\n",
       "    <tr>\n",
       "      <th>1</th>\n",
       "      <td>contact_id 3765 name Mariana Ellis email maria...</td>\n",
       "      <td>3765</td>\n",
       "    </tr>\n",
       "    <tr>\n",
       "      <th>2</th>\n",
       "      <td>contact_id 4187 name Sofie Woods email sofie.w...</td>\n",
       "      <td>4187</td>\n",
       "    </tr>\n",
       "    <tr>\n",
       "      <th>3</th>\n",
       "      <td>contact_id 4941 name Jeanette Iannotti email j...</td>\n",
       "      <td>4941</td>\n",
       "    </tr>\n",
       "    <tr>\n",
       "      <th>4</th>\n",
       "      <td>contact_id 2199 name Samuel Sorgatz email samu...</td>\n",
       "      <td>2199</td>\n",
       "    </tr>\n",
       "    <tr>\n",
       "      <th>...</th>\n",
       "      <td>...</td>\n",
       "      <td>...</td>\n",
       "    </tr>\n",
       "    <tr>\n",
       "      <th>995</th>\n",
       "      <td>contact_id 3684 name Whitney Noack email whitn...</td>\n",
       "      <td>3684</td>\n",
       "    </tr>\n",
       "    <tr>\n",
       "      <th>996</th>\n",
       "      <td>contact_id 5784 name Gelsomina Migliaccio emai...</td>\n",
       "      <td>5784</td>\n",
       "    </tr>\n",
       "    <tr>\n",
       "      <th>997</th>\n",
       "      <td>contact_id 1498 name Evangelista Pereira email...</td>\n",
       "      <td>1498</td>\n",
       "    </tr>\n",
       "    <tr>\n",
       "      <th>998</th>\n",
       "      <td>contact_id 6073 name Gareth Comolli email gare...</td>\n",
       "      <td>6073</td>\n",
       "    </tr>\n",
       "    <tr>\n",
       "      <th>999</th>\n",
       "      <td>contact_id 4939 name Michelangelo Hess email m...</td>\n",
       "      <td>4939</td>\n",
       "    </tr>\n",
       "  </tbody>\n",
       "</table>\n",
       "<p>1000 rows × 2 columns</p>\n",
       "</div>"
      ],
      "text/plain": [
       "                                          contact_info contact_id\n",
       "0    contact_id 4661 name Cecilia Velasco email cec...       4661\n",
       "1    contact_id 3765 name Mariana Ellis email maria...       3765\n",
       "2    contact_id 4187 name Sofie Woods email sofie.w...       4187\n",
       "3    contact_id 4941 name Jeanette Iannotti email j...       4941\n",
       "4    contact_id 2199 name Samuel Sorgatz email samu...       2199\n",
       "..                                                 ...        ...\n",
       "995  contact_id 3684 name Whitney Noack email whitn...       3684\n",
       "996  contact_id 5784 name Gelsomina Migliaccio emai...       5784\n",
       "997  contact_id 1498 name Evangelista Pereira email...       1498\n",
       "998  contact_id 6073 name Gareth Comolli email gare...       6073\n",
       "999  contact_id 4939 name Michelangelo Hess email m...       4939\n",
       "\n",
       "[1000 rows x 2 columns]"
      ]
     },
     "execution_count": 9,
     "metadata": {},
     "output_type": "execute_result"
    }
   ],
   "source": [
    "contacts_string_df"
   ]
  },
  {
   "cell_type": "code",
   "execution_count": 10,
   "id": "321196d5",
   "metadata": {},
   "outputs": [
    {
     "data": {
      "text/plain": [
       "['Cecilia Velasco', 'il cecilia']"
      ]
     },
     "execution_count": 10,
     "metadata": {},
     "output_type": "execute_result"
    }
   ],
   "source": [
    "# Extract the first and last name after the word \"name\". \n",
    "name = re.findall(r'([^name\\s+][A-Za-z]+\\s+[A-Za-z]+)', string_data)\n",
    "name"
   ]
  },
  {
   "cell_type": "code",
   "execution_count": 11,
   "id": "0b5c535a",
   "metadata": {},
   "outputs": [
    {
     "data": {
      "text/plain": [
       "['Cecilia Velasco']"
      ]
     },
     "execution_count": 11,
     "metadata": {},
     "output_type": "execute_result"
    }
   ],
   "source": [
    "# Extract the first and last name after the word \"name\". \n",
    "name = re.findall(r'([^nameil\\s+][A-Za-z]+\\s+[A-Za-z]+)', string_data)\n",
    "name"
   ]
  },
  {
   "cell_type": "code",
   "execution_count": 12,
   "id": "cdb33ca6",
   "metadata": {},
   "outputs": [
    {
     "data": {
      "text/plain": [
       "['cecilia.velasco@rodrigues.fr']"
      ]
     },
     "execution_count": 12,
     "metadata": {},
     "output_type": "execute_result"
    }
   ],
   "source": [
    "# Extract the email address using a regular expression pattern. \n",
    "email_address = re.findall(r'(\\S+@\\S+)', string_data)\n",
    "email_address\n"
   ]
  },
  {
   "cell_type": "code",
   "execution_count": null,
   "id": "34b717b5",
   "metadata": {},
   "outputs": [],
   "source": []
  }
 ],
 "metadata": {
  "kernelspec": {
   "display_name": "PythonData",
   "language": "python",
   "name": "pythondata"
  },
  "language_info": {
   "codemirror_mode": {
    "name": "ipython",
    "version": 3
   },
   "file_extension": ".py",
   "mimetype": "text/x-python",
   "name": "python",
   "nbconvert_exporter": "python",
   "pygments_lexer": "ipython3",
   "version": "3.9.12"
  }
 },
 "nbformat": 4,
 "nbformat_minor": 5
}
